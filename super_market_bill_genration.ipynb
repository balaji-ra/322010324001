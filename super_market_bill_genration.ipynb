{
  "nbformat": 4,
  "nbformat_minor": 0,
  "metadata": {
    "colab": {
      "private_outputs": true,
      "provenance": [],
      "authorship_tag": "ABX9TyPyZRk28iIDVJGQ++TD9rV0",
      "include_colab_link": true
    },
    "kernelspec": {
      "name": "python3",
      "display_name": "Python 3"
    },
    "language_info": {
      "name": "python"
    }
  },
  "cells": [
    {
      "cell_type": "markdown",
      "metadata": {
        "id": "view-in-github",
        "colab_type": "text"
      },
      "source": [
        "<a href=\"https://colab.research.google.com/github/balaji-ra/322010324001/blob/main/super_market_bill_genration.ipynb\" target=\"_parent\"><img src=\"https://colab.research.google.com/assets/colab-badge.svg\" alt=\"Open In Colab\"/></a>"
      ]
    },
    {
      "cell_type": "code",
      "execution_count": null,
      "metadata": {
        "id": "y7XBCYYeTCoj"
      },
      "outputs": [],
      "source": [
        "from datetime import datetime\n",
        "print('============welcome===========')\n",
        "Name = input(\"enter your name :\")\n",
        "lists = '''\n",
        "sugar   Rs  20/kg\n",
        "rice    Rs  40/kg\n",
        "maggi   Rs  10/each\n",
        "salt    Rs  20/kg\n",
        "oil     Rs  80/litre\n",
        "boost   Rs  40/each\n",
        "colgate Rs  85/each\n",
        "'''\n",
        "price = 0\n",
        "total_price = 0\n",
        "final_price = 0\n",
        "pricelist = []\n",
        "ilist = []\n",
        "qlist = []\n",
        "plist = []\n",
        "\n",
        "items = {'sugar':20,'rice':40,'maggi':10,'salt':20,'oil':80,'boost':40,'colgate':85}\n",
        "option = int(input(\"for lists of items press 1 :\"))\n",
        "if option == 1:\n",
        "  print(lists)\n",
        "  for i in range(len(items)):\n",
        "    inp1 = int(input(\"to buy an item press 1 or 2 to exit :\"))\n",
        "    if inp1 == 2:\n",
        "      break\n",
        "    if inp1 == 1:\n",
        "      item = input(\"enter the item name:\")\n",
        "      quantity = int(input(\"enter the quantity :\"))\n",
        "      if item in items.keys():\n",
        "        price = items[item]*quantity\n",
        "        pricelist.append((item,quantity,items,price))\n",
        "        total_price = total_price + price\n",
        "        ilist.append(item)\n",
        "        qlist.append(quantity)\n",
        "        plist.append(price)\n",
        "        gst = (total_price*5)/100\n",
        "        final_price = total_price + gst\n",
        "      else:\n",
        "        print(\"item is not found\")\n",
        "    else:\n",
        "      print(\"entered number is wrong\")\n",
        "    inp = input(\"if you want bill press yes or No :\")\n",
        "    if inp == 'yes':\n",
        "      pass\n",
        "      if final_price != 0:\n",
        "        print(30*'=','BBR MART',30*'=')\n",
        "        print(28*' ','Tirupati',28*' ')\n",
        "        print('Name',Name,30*' ','Date:',datetime.now())\n",
        "        print(75*'=')\n",
        "        print('sno',10*' ','items',11*' ','quantity',11*' ','price')\n",
        "        for i in range(len(pricelist)):\n",
        "          print(i,10*' ',ilist[i],11*' ',qlist[i],11*' ',plist[i])\n",
        "        print(75*'=')\n",
        "        print(50*' ','Total amount :','Rs',total_price)\n",
        "        print(50*' ','gst amount :','Rs',gst)\n",
        "        print(75*'=')\n",
        "        print(50*' ','final amount :','Rs',final_price)\n",
        "        print(75*'=')\n",
        "        print(25*' ','thank you ')\n",
        "        print(75*'=')"
      ]
    }
  ]
}